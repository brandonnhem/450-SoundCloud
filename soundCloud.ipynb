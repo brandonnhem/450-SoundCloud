{
 "cells": [
  {
   "cell_type": "code",
   "execution_count": 45,
   "metadata": {},
   "outputs": [],
   "source": [
    "import ipywidgets as widgets\n",
    "from IPython.display import display\n",
    "\n",
    "# GUI elements\n",
    "\n",
    "api_header = widgets.HBox([widgets.Label(value=\"Enter Genius API Key\")])\n",
    "\n",
    "api_text = widgets.Text(\n",
    "    value='',\n",
    "    placeholder='Enter Genius API Key..',\n",
    "    description='API:',\n",
    "    disabled=False\n",
    ")\n",
    "\n",
    "api_button = widgets.Button(\n",
    "    description='Store API',\n",
    "    disabled=False,\n",
    "    button_style='info', # 'success', 'info', 'warning', 'danger' or ''\n",
    "    tooltip='Store API Key',\n",
    "    icon='save' # (FontAwesome names without the `fa-` prefix)\n",
    ")\n",
    "\n",
    "canvas_header = widgets.HBox([widgets.Label(value=\"Canvas Settings\")])\n",
    "\n",
    "height_text = widgets.Text(\n",
    "    value='',\n",
    "    placeholder='Enter canvas height..',\n",
    "    description='Height:',\n",
    "    disabled=False\n",
    ")\n",
    "\n",
    "width_text = widgets.Text(\n",
    "    value='',\n",
    "    placeholder='Enter canvas width..',\n",
    "    description='Width:',\n",
    "    disabled=False\n",
    ")\n",
    "\n",
    "save_canvas_button = widgets.Button(\n",
    "    description='Save Canvas',\n",
    "    disabled=False,\n",
    "    button_style='', # 'success', 'info', 'warning', 'danger' or ''\n",
    "    tooltip='Save Settings for Canvas',\n",
    "    icon='save' # (FontAwesome names without the `fa-` prefix)\n",
    ")\n",
    "\n",
    "header = widgets.HBox([widgets.Label(value=\"Sound Cloud Search\")])\n",
    "\n",
    "song_text = widgets.Text(\n",
    "    value='',\n",
    "    placeholder='Enter song name..',\n",
    "    description='Song:',\n",
    "    disabled=False\n",
    ")\n",
    "\n",
    "artist_text = widgets.Text(\n",
    "    value='',\n",
    "    placeholder='Enter artist name..',\n",
    "    description='Artist:',\n",
    "    disabled=False\n",
    ")\n",
    "\n",
    "generate_button = widgets.Button(\n",
    "    description='Generate Cloud',\n",
    "    disabled=False,\n",
    "    button_style='success', # 'success', 'info', 'warning', 'danger' or ''\n",
    "    tooltip='Generate Word Cloud',\n",
    "    icon='cloud' # (FontAwesome names without the `fa-` prefix)\n",
    ")\n",
    "\n",
    "clear_button = widgets.Button(\n",
    "    description='Clear Search',\n",
    "    disabled=False,\n",
    "    button_style='danger', # 'success', 'info', 'warning', 'danger' or ''\n",
    "    tooltip='Clear Search',\n",
    "    icon='times-circle' # (FontAwesome names without the `fa-` prefix)\n",
    ")\n",
    "\n",
    "output = widgets.Output()"
   ]
  },
  {
   "cell_type": "code",
   "execution_count": 46,
   "metadata": {},
   "outputs": [],
   "source": [
    "# lyricsgenius\n",
    "\n",
    "import lyricsgenius\n",
    "\n",
    "genius = lyricsgenius.Genius(api_text.value)"
   ]
  },
  {
   "cell_type": "code",
   "execution_count": 47,
   "metadata": {},
   "outputs": [],
   "source": [
    "# Button handling\n",
    "from collections import Counter\n",
    "from itertools import dropwhile\n",
    "\n",
    "lyric_count = Counter()\n",
    "canvas_height = 0\n",
    "canvas_width = 0\n",
    "\n",
    "def api_button_clicked(b):\n",
    "    genius = lyricsgenius.Genius(api_text.value)\n",
    "    with output:\n",
    "        print(\"[DEBUG - api_button_clicked]\\nAPI key:\", api_text.value, \"\\n\")\n",
    "        \n",
    "def save_canvas_button_clicked(b):\n",
    "    global canvas_height\n",
    "    global canvas_width\n",
    "    if(int(height_text.value) < 100 or int(width_text.value) < 100):\n",
    "        with output:\n",
    "            print(\"[DEBUG - save_canvas_button_clicked]\\nValues are too small (minimum 100 x 100)\\n\")\n",
    "    else:\n",
    "        canvas_height = int(height_text.value)\n",
    "        canvas_width = int(width_text.value)\n",
    "        with output:\n",
    "            print(\"[DEBUG - save_canvas_button_clicked]\\nHeight:\", height_text.value, \"\\nWidth:\", width_text.value, \"\\n\")\n",
    "\n",
    "def generate_button_clicked(b):\n",
    "    with output:\n",
    "        print(\"[DEBUG - generate_button_clicked]\\nSong:\", song_text.value, \"\\nArtist:\", artist_text.value, \"\\n\")\n",
    "        try:\n",
    "            song = genius.search_song(song_text.value, artist_text.value)\n",
    "\n",
    "            lyrics = song.lyrics.split()\n",
    "            lyrics = [x.lower() for x in lyrics] # converts all values in list to lowercase\n",
    "            lyrics = [x.replace(',','') for x in lyrics] # removes all commas            \n",
    "            global lyric_count\n",
    "            lyric_count = Counter(lyrics)\n",
    "\n",
    "            # Remove lyrics where frequency is >= 4, needs to be dynamic based on song\n",
    "            for key, count in dropwhile(lambda key_count: key_count[1] >= 4, lyric_count.most_common()):\n",
    "                del lyric_count[key]\n",
    "                \n",
    "            print(\"[DEBUG - getting lyrics]\\n\",lyric_count,\"\\n\")\n",
    "        except TypeError as err:\n",
    "            print(\"\\n\\t--- ERROR - Enter API key correctly ---\\t\\n\")\n",
    "        \n",
    "def clear_button_clicked(b):\n",
    "    song_text.value = ''\n",
    "    artist_text.value = ''\n",
    "    height_text.value= ''\n",
    "    width_text.value = ''\n",
    "    with output:\n",
    "        print(\"[DEBUG - clear_clicked()]\\nCleared 'song_text', 'artist_text', 'height_text', and 'width_text'\\n\")\n",
    "\n",
    "api_button.on_click(api_button_clicked)\n",
    "save_canvas_button.on_click(save_canvas_button_clicked)\n",
    "generate_button.on_click(generate_button_clicked)\n",
    "clear_button.on_click(clear_button_clicked)"
   ]
  },
  {
   "cell_type": "code",
   "execution_count": 48,
   "metadata": {},
   "outputs": [
    {
     "data": {
      "application/vnd.jupyter.widget-view+json": {
       "model_id": "7dfc559e7bf54c3393753c0349652541",
       "version_major": 2,
       "version_minor": 0
      },
      "text/plain": [
       "HBox(children=(Label(value='Enter Genius API Key'),))"
      ]
     },
     "metadata": {},
     "output_type": "display_data"
    },
    {
     "data": {
      "application/vnd.jupyter.widget-view+json": {
       "model_id": "47ae1f7b609e411985a8fd84bf4eb4dd",
       "version_major": 2,
       "version_minor": 0
      },
      "text/plain": [
       "Text(value='', description='API:', placeholder='Enter Genius API Key..')"
      ]
     },
     "metadata": {},
     "output_type": "display_data"
    },
    {
     "data": {
      "application/vnd.jupyter.widget-view+json": {
       "model_id": "dad53f9f99b7436fb73d56e2c95a81bd",
       "version_major": 2,
       "version_minor": 0
      },
      "text/plain": [
       "Button(button_style='info', description='Store API', icon='save', style=ButtonStyle(), tooltip='Store API Key'…"
      ]
     },
     "metadata": {},
     "output_type": "display_data"
    },
    {
     "data": {
      "application/vnd.jupyter.widget-view+json": {
       "model_id": "815f5fb9d5214582836df40bbdda32d3",
       "version_major": 2,
       "version_minor": 0
      },
      "text/plain": [
       "HBox(children=(Label(value='Canvas Settings'),))"
      ]
     },
     "metadata": {},
     "output_type": "display_data"
    },
    {
     "data": {
      "application/vnd.jupyter.widget-view+json": {
       "model_id": "e8a25f3daed9421fa21ab72096007a22",
       "version_major": 2,
       "version_minor": 0
      },
      "text/plain": [
       "Text(value='', description='Height:', placeholder='Enter canvas height..')"
      ]
     },
     "metadata": {},
     "output_type": "display_data"
    },
    {
     "data": {
      "application/vnd.jupyter.widget-view+json": {
       "model_id": "4d38b0250bbb4c418c99c40c5adc8958",
       "version_major": 2,
       "version_minor": 0
      },
      "text/plain": [
       "Text(value='', description='Width:', placeholder='Enter canvas width..')"
      ]
     },
     "metadata": {},
     "output_type": "display_data"
    },
    {
     "data": {
      "application/vnd.jupyter.widget-view+json": {
       "model_id": "a3460ee58e8942cda9fa55876627026b",
       "version_major": 2,
       "version_minor": 0
      },
      "text/plain": [
       "Button(description='Save Canvas', icon='save', style=ButtonStyle(), tooltip='Save Settings for Canvas')"
      ]
     },
     "metadata": {},
     "output_type": "display_data"
    },
    {
     "data": {
      "application/vnd.jupyter.widget-view+json": {
       "model_id": "ff1d8974626d4629879fd3f46c7555a6",
       "version_major": 2,
       "version_minor": 0
      },
      "text/plain": [
       "HBox(children=(Label(value='Sound Cloud Search'),))"
      ]
     },
     "metadata": {},
     "output_type": "display_data"
    },
    {
     "data": {
      "application/vnd.jupyter.widget-view+json": {
       "model_id": "bff78c8f214940a4a2741b55c01d9846",
       "version_major": 2,
       "version_minor": 0
      },
      "text/plain": [
       "Text(value='', description='Song:', placeholder='Enter song name..')"
      ]
     },
     "metadata": {},
     "output_type": "display_data"
    },
    {
     "data": {
      "application/vnd.jupyter.widget-view+json": {
       "model_id": "c89add17627f47529a3c168eeac6f2e2",
       "version_major": 2,
       "version_minor": 0
      },
      "text/plain": [
       "Text(value='', description='Artist:', placeholder='Enter artist name..')"
      ]
     },
     "metadata": {},
     "output_type": "display_data"
    },
    {
     "data": {
      "application/vnd.jupyter.widget-view+json": {
       "model_id": "a7225f1d8b4b4aa2a03988b8b164c9b7",
       "version_major": 2,
       "version_minor": 0
      },
      "text/plain": [
       "Button(button_style='success', description='Generate Cloud', icon='cloud', style=ButtonStyle(), tooltip='Gener…"
      ]
     },
     "metadata": {},
     "output_type": "display_data"
    },
    {
     "data": {
      "application/vnd.jupyter.widget-view+json": {
       "model_id": "22c7bdf911514aa5bd691a47bea6b2f8",
       "version_major": 2,
       "version_minor": 0
      },
      "text/plain": [
       "Button(button_style='danger', description='Clear Search', icon='times-circle', style=ButtonStyle(), tooltip='C…"
      ]
     },
     "metadata": {},
     "output_type": "display_data"
    },
    {
     "data": {
      "application/vnd.jupyter.widget-view+json": {
       "model_id": "6104f48fb7a64cd58027ee3fab23c54c",
       "version_major": 2,
       "version_minor": 0
      },
      "text/plain": [
       "Output()"
      ]
     },
     "metadata": {},
     "output_type": "display_data"
    }
   ],
   "source": [
    "# Display GUI\n",
    "display(api_header, api_text, api_button, canvas_header, height_text, width_text, save_canvas_button, header, song_text, artist_text, generate_button, clear_button, output)"
   ]
  },
  {
   "cell_type": "code",
   "execution_count": 59,
   "metadata": {},
   "outputs": [
    {
     "name": "stdout",
     "output_type": "stream",
     "text": [
      "12.5 87.5\n"
     ]
    },
    {
     "data": {
      "application/vnd.jupyter.widget-view+json": {
       "model_id": "e05385b1b3eb4e57935b6d9a6e81dd6a",
       "version_major": 2,
       "version_minor": 0
      },
      "text/plain": [
       "Canvas(height=100, width=100)"
      ]
     },
     "metadata": {},
     "output_type": "display_data"
    }
   ],
   "source": [
    "# Canvas\n",
    "\n",
    "from ipycanvas import Canvas\n",
    "import random\n",
    "\n",
    "# creating canvas\n",
    "canvas = Canvas(width=canvas_width, height=canvas_height)\n",
    "print(canvas_width * 0.125, canvas_height - (canvas_height * 0.125))\n",
    "\n",
    "# setting font size\n",
    "canvas.font = '32px serif'\n",
    "\n",
    "# stroke_text or fill_text(text, x, y, max_width=None)\n",
    "for i in enumerate(lyric_count):\n",
    "    canvas.fill_text(i[1], random.randint(int(canvas_width * 0.125), int(canvas_height - (canvas_height * 0.125))), random.randint(int(canvas_width * 0.125), int(canvas_height - (canvas_height * 0.125))))\n",
    "\n",
    "# call canvas\n",
    "canvas"
   ]
  },
  {
   "cell_type": "code",
   "execution_count": null,
   "metadata": {},
   "outputs": [],
   "source": []
  }
 ],
 "metadata": {
  "kernelspec": {
   "display_name": "Python 3",
   "language": "python",
   "name": "python3"
  },
  "language_info": {
   "codemirror_mode": {
    "name": "ipython",
    "version": 3
   },
   "file_extension": ".py",
   "mimetype": "text/x-python",
   "name": "python",
   "nbconvert_exporter": "python",
   "pygments_lexer": "ipython3",
   "version": "3.8.5"
  }
 },
 "nbformat": 4,
 "nbformat_minor": 4
}
