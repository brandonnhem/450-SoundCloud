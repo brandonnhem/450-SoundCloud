{
 "cells": [
  {
   "cell_type": "code",
   "execution_count": 46,
   "metadata": {},
   "outputs": [],
   "source": [
    "import ipywidgets as widgets\n",
    "from IPython.display import display\n",
    "\n",
    "# GUI elements\n",
    "\n",
    "header = widgets.HBox([widgets.Label(value=\"Sound Cloud Search\")])\n",
    "\n",
    "song_text = widgets.Text(\n",
    "    value='',\n",
    "    placeholder='Enter song name..',\n",
    "    description='Song:',\n",
    "    disabled=False\n",
    ")\n",
    "\n",
    "artist_text = widgets.Text(\n",
    "    value='',\n",
    "    placeholder='Enter artist name..',\n",
    "    description='Artist:',\n",
    "    disabled=False\n",
    ")\n",
    "\n",
    "generate_button = widgets.Button(\n",
    "    description='Generate Cloud',\n",
    "    disabled=False,\n",
    "    button_style='success', # 'success', 'info', 'warning', 'danger' or ''\n",
    "    tooltip='Generate Word Cloud',\n",
    "    icon='cloud' # (FontAwesome names without the `fa-` prefix)\n",
    ")\n",
    "\n",
    "clear_button = widgets.Button(\n",
    "    description='Clear Search',\n",
    "    disabled=False,\n",
    "    button_style='danger', # 'success', 'info', 'warning', 'danger' or ''\n",
    "    tooltip='Clear Search',\n",
    "    icon='times-circle' # (FontAwesome names without the `fa-` prefix)\n",
    ")\n",
    "\n",
    "output = widgets.Output()"
   ]
  },
  {
   "cell_type": "code",
   "execution_count": 47,
   "metadata": {},
   "outputs": [],
   "source": [
    "# Button handling\n",
    "\n",
    "def generate_button_clicked(b):\n",
    "    with output:\n",
    "        print(\"[DEBUG - generate_button_clicked]\\nSong:\", song_text.value, \"\\nArtist:\", artist_text.value, \"\\n\")        \n",
    "def clear_button_clicked(b):\n",
    "    song_text.value = ''\n",
    "    artist_text.value = ''\n",
    "    with output:\n",
    "        print(\"[DEBUG - clear_clicked()]\\nCleared 'song_text' and 'artist_text'\\n\")\n",
    "        \n",
    "generate_button.on_click(generate_button_clicked)\n",
    "clear_button.on_click(clear_clicked)"
   ]
  },
  {
   "cell_type": "code",
   "execution_count": 48,
   "metadata": {},
   "outputs": [
    {
     "data": {
      "application/vnd.jupyter.widget-view+json": {
       "model_id": "244203a6a3774bc4813fab584b1e7312",
       "version_major": 2,
       "version_minor": 0
      },
      "text/plain": [
       "HBox(children=(Label(value='Sound Cloud Search'),))"
      ]
     },
     "metadata": {},
     "output_type": "display_data"
    },
    {
     "data": {
      "application/vnd.jupyter.widget-view+json": {
       "model_id": "7fd20faa299c4b00af26a5d558abe18d",
       "version_major": 2,
       "version_minor": 0
      },
      "text/plain": [
       "Text(value='', description='Song:', placeholder='Enter song name..')"
      ]
     },
     "metadata": {},
     "output_type": "display_data"
    },
    {
     "data": {
      "application/vnd.jupyter.widget-view+json": {
       "model_id": "05f469763ab94d4e8ade39b74eee3edb",
       "version_major": 2,
       "version_minor": 0
      },
      "text/plain": [
       "Text(value='', description='Artist:', placeholder='Enter artist name..')"
      ]
     },
     "metadata": {},
     "output_type": "display_data"
    },
    {
     "data": {
      "application/vnd.jupyter.widget-view+json": {
       "model_id": "6c5fd7672c704ac0a588141b8a721494",
       "version_major": 2,
       "version_minor": 0
      },
      "text/plain": [
       "Button(button_style='success', description='Generate Cloud', icon='cloud', style=ButtonStyle(), tooltip='Gener…"
      ]
     },
     "metadata": {},
     "output_type": "display_data"
    },
    {
     "data": {
      "application/vnd.jupyter.widget-view+json": {
       "model_id": "184a24c6c51144e1af39cc6cb0aba393",
       "version_major": 2,
       "version_minor": 0
      },
      "text/plain": [
       "Button(button_style='danger', description='Clear Search', icon='times-circle', style=ButtonStyle(), tooltip='C…"
      ]
     },
     "metadata": {},
     "output_type": "display_data"
    },
    {
     "data": {
      "application/vnd.jupyter.widget-view+json": {
       "model_id": "6c9c3e8be24b47b39e237cc73ed61a97",
       "version_major": 2,
       "version_minor": 0
      },
      "text/plain": [
       "Output()"
      ]
     },
     "metadata": {},
     "output_type": "display_data"
    }
   ],
   "source": [
    "# Display GUI\n",
    "display(header, song_text, artist_text, generate_button, clear_button, output)"
   ]
  },
  {
   "cell_type": "code",
   "execution_count": 49,
   "metadata": {},
   "outputs": [
    {
     "data": {
      "application/vnd.jupyter.widget-view+json": {
       "model_id": "c3010687981b4393a4c0dcd23f19e50c",
       "version_major": 2,
       "version_minor": 0
      },
      "text/plain": [
       "Canvas(height=200, width=400)"
      ]
     },
     "metadata": {},
     "output_type": "display_data"
    }
   ],
   "source": [
    "# Canvas\n",
    "\n",
    "from ipycanvas import Canvas\n",
    "\n",
    "# creating canvas\n",
    "canvas = Canvas(width=400, height=200)\n",
    "\n",
    "# setting font size\n",
    "canvas.font = '32px serif'\n",
    "\n",
    "# stroke_text or fill_text(text, x, y, max_width=None)\n",
    "canvas.fill_text('Testing ipycanvas', 50, 50)\n",
    "canvas.fill_text('Testing ipycanvas', 50, 90)\n",
    "\n",
    "# call canvas\n",
    "canvas"
   ]
  }
 ],
 "metadata": {
  "kernelspec": {
   "display_name": "Python 3",
   "language": "python",
   "name": "python3"
  },
  "language_info": {
   "codemirror_mode": {
    "name": "ipython",
    "version": 3
   },
   "file_extension": ".py",
   "mimetype": "text/x-python",
   "name": "python",
   "nbconvert_exporter": "python",
   "pygments_lexer": "ipython3",
   "version": "3.8.5"
  }
 },
 "nbformat": 4,
 "nbformat_minor": 4
}
