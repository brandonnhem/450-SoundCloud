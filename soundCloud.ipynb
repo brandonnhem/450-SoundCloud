{
 "cells": [
  {
   "cell_type": "code",
   "execution_count": 1,
   "metadata": {},
   "outputs": [],
   "source": [
    "import ipywidgets as widgets\n",
    "from IPython.display import display\n",
    "\n",
    "# GUI elements\n",
    "\n",
    "api_header = widgets.HBox([widgets.Label(value=\"Enter Genius API Key\")])\n",
    "\n",
    "api_text = widgets.Text(\n",
    "    value='',\n",
    "    placeholder='Enter Genius API Key..',\n",
    "    description='API:',\n",
    "    disabled=False\n",
    ")\n",
    "\n",
    "api_button = widgets.Button(\n",
    "    description='Store API',\n",
    "    disabled=False,\n",
    "    button_style='info', # 'success', 'info', 'warning', 'danger' or ''\n",
    "    tooltip='Store API Key',\n",
    "    icon='save' # (FontAwesome names without the `fa-` prefix)\n",
    ")\n",
    "\n",
    "header = widgets.HBox([widgets.Label(value=\"Sound Cloud Search\")])\n",
    "\n",
    "song_text = widgets.Text(\n",
    "    value='',\n",
    "    placeholder='Enter song name..',\n",
    "    description='Song:',\n",
    "    disabled=False\n",
    ")\n",
    "\n",
    "artist_text = widgets.Text(\n",
    "    value='',\n",
    "    placeholder='Enter artist name..',\n",
    "    description='Artist:',\n",
    "    disabled=False\n",
    ")\n",
    "\n",
    "generate_button = widgets.Button(\n",
    "    description='Generate Cloud',\n",
    "    disabled=False,\n",
    "    button_style='success', # 'success', 'info', 'warning', 'danger' or ''\n",
    "    tooltip='Generate Word Cloud',\n",
    "    icon='cloud' # (FontAwesome names without the `fa-` prefix)\n",
    ")\n",
    "profanity_check = widgets.Checkbox(\n",
    "            value = False,\n",
    "            description = 'Remove Profanity',\n",
    "            disabled = False,\n",
    "            indent = True)\n",
    "suprise_button = widgets.Button(\n",
    "    description = 'Suprise Me',\n",
    "    disabled = False,\n",
    "    button_style = 'success',\n",
    "    tooltip = 'Generate Random Song Cloud',\n",
    "    icon = 'question')\n",
    "\n",
    "clear_button = widgets.Button(\n",
    "    description='Clear Search',\n",
    "    disabled=False,\n",
    "    button_style='danger', # 'success', 'info', 'warning', 'danger' or ''\n",
    "    tooltip='Clear Search',\n",
    "    icon='times-circle' # (FontAwesome names without the `fa-` prefix)\n",
    ")\n",
    "color_dropdown = widgets.Dropdown(\n",
    "    options=['Blue', 'Red', 'Green', 'Purple', 'Multi-color', 'Multi-color 2'],\n",
    "    description='Color theme:',\n",
    "    value='Blue',\n",
    "    disabled=False,\n",
    ")\n",
    "\n",
    "output = widgets.Output()"
   ]
  },
  {
   "cell_type": "code",
   "execution_count": 2,
   "metadata": {},
   "outputs": [],
   "source": [
    "# lyricsgenius\n",
    "\n",
    "import lyricsgenius\n",
    "\n",
    "genius = lyricsgenius.Genius(api_text.value, remove_section_headers = True)"
   ]
  },
  {
   "cell_type": "code",
   "execution_count": 19,
   "metadata": {},
   "outputs": [],
   "source": [
    "# Button handling\n",
    "from collections import Counter\n",
    "from itertools import dropwhile\n",
    "from better_profanity import profanity\n",
    "import random\n",
    "\n",
    "lyric_count = Counter()\n",
    "profanity.load_censor_words() #loads the list of bad words into the library\n",
    "basic_words=[\"the\", \"i\", \"a\", \"be\", \"to\", \"of\", \"and\", \"in\", \"it\", \"for\", \"not\", \"on\", \"with\", \"he\", \"as\", \"you\", \"do\", \"this\", \"but\", \"his\"]\n",
    "#20 most common words in englsih words may switch to 10 for the sake of songs\n",
    "random_artists = [\"Taylor Swift\", \"Ariana Grande\", \"Tyler the Creator\", \"Adele\"] #random artists for our suprise function\n",
    "def api_button_clicked(b):\n",
    "    genius = lyricsgenius.Genius(api_text.value, remove_section_headers = True)\n",
    "    with output:\n",
    "        print(\"[DEBUG - api_button_clicked]\\nAPI key:\", api_text.value, \"\\n\")\n",
    "def color_changed(change):\n",
    "    with output:\n",
    "        if change['type'] == 'change' and change['name'] == 'value':\n",
    "            print(\"[DEBUG - color_changed()]\\nColor changed to %s\" % change['new'], \"\\n\")\n",
    "color_dropdown.observe(color_changed)\n",
    "       \n",
    "def generate_button_clicked(b):\n",
    "    with output:\n",
    "        print(\"[DEBUG - generate_button_clicked]\\nSong:\", song_text.value, \"\\nArtist:\", artist_text.value, \"\\n\")\n",
    "        try:\n",
    "            song = genius.search_song(song_text.value, artist_text.value) #text_format = \"\" \n",
    "            cloudMaker(song)\n",
    "        except TypeError as err:\n",
    "            print(\"\\n\\t--- ERROR - Enter API key correctly ---\\t\\n\")\n",
    "\n",
    "def suprise_button_clicked(b):\n",
    "    artist = random.choice(random_artists)\n",
    "    random_song = genius.search_artist(artist, max_songs=1, sort='popularity') #a dictionary of the artists and the song\n",
    "    cloudMaker(random_song.songs[0]) #call cloud maker with the artist's popular song\n",
    "    #genius.search_artist(song_text.value, max_songs=1)[1]\n",
    "def clear_button_clicked(b):\n",
    "    song_text.value = ''\n",
    "    artist_text.value = ''\n",
    "    with output:\n",
    "        print(\"[DEBUG - clear_clicked()]\\nCleared 'song_text' and 'artist_text'\\n\")\n",
    "        \n",
    "def cloudMaker(song): #place cloud generater in this function\n",
    "    lyrics = song.lyrics.replace('-', ' ').split()\n",
    "    lyrics = [x.lower() for x in lyrics] # converts all values in list to lowercase\n",
    "    lyrics = [x.replace(',','') for x in lyrics] # removes all commas \n",
    "    lyrics = [x.replace('(', '') for x in lyrics] #removes parenthesis\n",
    "    lyrics = [x.replace(')', '') for x in lyrics]\n",
    "    lyrics = [x.replace('?', '') for x in lyrics] #remove question marks\n",
    "    lyrics = [x.replace('!', '') for x in lyrics] #remove exclamation points\n",
    "    song_url = song.song_art_image_url #retrieves the song's photo\n",
    "    for x in list(lyrics): #remove basic words such as \"the\" \n",
    "        if x in basic_words:\n",
    "            lyrics.remove(x)\n",
    "        if profanity_check.value == True: #If profanity box was clicked remove profanity\n",
    "            for x in list(lyrics):\n",
    "                if profanity.contains_profanity(x):\n",
    "                        lyrics.remove(x)\n",
    "    #censoredLyrics = profanity.censor(lyrics)\n",
    "    #print(censoredLyrics)\n",
    "    #lyrics = [x.replace('-',' ') for x in lyrics] # removes all dashes have to seperate the words\n",
    "    #for x in censoredLyrics:\n",
    "        #print(x)\n",
    "            \n",
    "    global lyric_count\n",
    "    lyric_count = Counter(lyrics)\n",
    "\n",
    "    # Remove lyrics where frequency is >= 4, needs to be dynamic based on song\n",
    "    for key, count in dropwhile(lambda key_count: key_count[1] >= 3, lyric_count.most_common()):\n",
    "        del lyric_count[key]\n",
    "                \n",
    "    print(\"[DEBUG - getting lyrics]\\n\",lyric_count,\"\\n\")\n",
    "    #song_url = song.song_art_image_url #retrieves the songs photo\n",
    "    #song_artist_name = song.artist #retrieves the songs' artist name\n",
    "    #song_title = song.title\n",
    "                    \n",
    "api_button.on_click(api_button_clicked)\n",
    "generate_button.on_click(generate_button_clicked)\n",
    "suprise_button.on_click(suprise_button_clicked)\n",
    "clear_button.on_click(clear_button_clicked)"
   ]
  },
  {
   "cell_type": "code",
   "execution_count": 20,
   "metadata": {
    "scrolled": true
   },
   "outputs": [
    {
     "data": {
      "application/vnd.jupyter.widget-view+json": {
       "model_id": "33760f06c078433aba42bec86b129e6f",
       "version_major": 2,
       "version_minor": 0
      },
      "text/plain": [
       "HBox(children=(Label(value='Enter Genius API Key'),))"
      ]
     },
     "metadata": {},
     "output_type": "display_data"
    },
    {
     "data": {
      "application/vnd.jupyter.widget-view+json": {
       "model_id": "2f9ca8e2b35d412e96f51e9a144e9c94",
       "version_major": 2,
       "version_minor": 0
      },
      "text/plain": [
       "Text(value='GS3THMep4TL9CsDLwVIxMj76GpnFDKks6ZjWS8SU3AK0bzTnfIT6rJdTEszTDipu', description='API:', placeholder…"
      ]
     },
     "metadata": {},
     "output_type": "display_data"
    },
    {
     "data": {
      "application/vnd.jupyter.widget-view+json": {
       "model_id": "2f7d094c16c8473a9041b12e3dfbe474",
       "version_major": 2,
       "version_minor": 0
      },
      "text/plain": [
       "Button(button_style='info', description='Store API', icon='save', style=ButtonStyle(), tooltip='Store API Key'…"
      ]
     },
     "metadata": {},
     "output_type": "display_data"
    },
    {
     "data": {
      "application/vnd.jupyter.widget-view+json": {
       "model_id": "1b660a3c62284745b1078010e17d6fab",
       "version_major": 2,
       "version_minor": 0
      },
      "text/plain": [
       "HBox(children=(Label(value='Sound Cloud Search'),))"
      ]
     },
     "metadata": {},
     "output_type": "display_data"
    },
    {
     "data": {
      "application/vnd.jupyter.widget-view+json": {
       "model_id": "a86176071ba747e4bcff307c58ec85fe",
       "version_major": 2,
       "version_minor": 0
      },
      "text/plain": [
       "Text(value='Ariana Grande', description='Song:', placeholder='Enter song name..')"
      ]
     },
     "metadata": {},
     "output_type": "display_data"
    },
    {
     "data": {
      "application/vnd.jupyter.widget-view+json": {
       "model_id": "ac23cf5485064c2999f1a99b0f519444",
       "version_major": 2,
       "version_minor": 0
      },
      "text/plain": [
       "Text(value='', description='Artist:', placeholder='Enter artist name..')"
      ]
     },
     "metadata": {},
     "output_type": "display_data"
    },
    {
     "data": {
      "application/vnd.jupyter.widget-view+json": {
       "model_id": "5a7290a8d8b64a6eb9e93a004eed9405",
       "version_major": 2,
       "version_minor": 0
      },
      "text/plain": [
       "Dropdown(description='Color theme:', options=('Blue', 'Red', 'Green', 'Purple', 'Multi-color', 'Multi-color 2'…"
      ]
     },
     "metadata": {},
     "output_type": "display_data"
    },
    {
     "data": {
      "application/vnd.jupyter.widget-view+json": {
       "model_id": "38bbbe43a2684285b7a04f98ff102d87",
       "version_major": 2,
       "version_minor": 0
      },
      "text/plain": [
       "Checkbox(value=False, description='Remove Profanity')"
      ]
     },
     "metadata": {},
     "output_type": "display_data"
    },
    {
     "data": {
      "application/vnd.jupyter.widget-view+json": {
       "model_id": "fc688811454e4343a3e8662e3a608dc0",
       "version_major": 2,
       "version_minor": 0
      },
      "text/plain": [
       "Button(button_style='success', description='Generate Cloud', icon='cloud', style=ButtonStyle(), tooltip='Gener…"
      ]
     },
     "metadata": {},
     "output_type": "display_data"
    },
    {
     "data": {
      "application/vnd.jupyter.widget-view+json": {
       "model_id": "b8a816206b054e5c87be575feb0fce5d",
       "version_major": 2,
       "version_minor": 0
      },
      "text/plain": [
       "Button(button_style='success', description='Suprise Me', icon='question', style=ButtonStyle(), tooltip='Genera…"
      ]
     },
     "metadata": {},
     "output_type": "display_data"
    },
    {
     "data": {
      "application/vnd.jupyter.widget-view+json": {
       "model_id": "d27b27e876024abfac3a06d2bd5404f4",
       "version_major": 2,
       "version_minor": 0
      },
      "text/plain": [
       "Button(button_style='danger', description='Clear Search', icon='times-circle', style=ButtonStyle(), tooltip='C…"
      ]
     },
     "metadata": {},
     "output_type": "display_data"
    },
    {
     "data": {
      "application/vnd.jupyter.widget-view+json": {
       "model_id": "ac46e0892c174a3c98c28ca7ef72b695",
       "version_major": 2,
       "version_minor": 0
      },
      "text/plain": [
       "Output(outputs=({'output_type': 'stream', 'text': '[DEBUG - api_button_clicked]\\nAPI key: GS3THMep4TL9CsDLwVIx…"
      ]
     },
     "metadata": {},
     "output_type": "display_data"
    },
    {
     "name": "stdout",
     "output_type": "stream",
     "text": [
      "Searching for songs by Taylor Swift...\n",
      "\n",
      "Song 1: \"​cardigan\"\n",
      "\n",
      "Reached user-specified song limit (1).\n",
      "Done. Found 1 songs.\n",
      "Taylor Swift\n",
      "Taylor Swift, 1 song\n",
      "Searching for songs by Taylor Swift...\n",
      "\n",
      "Song 1: \"​cardigan\"\n",
      "\n",
      "Reached user-specified song limit (1).\n",
      "Done. Found 1 songs.\n",
      "Taylor Swift\n"
     ]
    },
    {
     "ename": "TypeError",
     "evalue": "'Artist' object is not subscriptable",
     "output_type": "error",
     "traceback": [
      "\u001b[1;31m---------------------------------------------------------------------------\u001b[0m",
      "\u001b[1;31mTypeError\u001b[0m                                 Traceback (most recent call last)",
      "\u001b[1;32m<ipython-input-9-d46942a3092f>\u001b[0m in \u001b[0;36msuprise_button_clicked\u001b[1;34m(b)\u001b[0m\n\u001b[0;32m     63\u001b[0m     \u001b[0mrandom_song\u001b[0m \u001b[1;33m=\u001b[0m \u001b[0mgenius\u001b[0m\u001b[1;33m.\u001b[0m\u001b[0msearch_artist\u001b[0m\u001b[1;33m(\u001b[0m\u001b[0martist\u001b[0m\u001b[1;33m,\u001b[0m \u001b[0mmax_songs\u001b[0m\u001b[1;33m=\u001b[0m\u001b[1;36m1\u001b[0m\u001b[1;33m,\u001b[0m \u001b[0msort\u001b[0m\u001b[1;33m=\u001b[0m\u001b[1;34m'popularity'\u001b[0m\u001b[1;33m)\u001b[0m\u001b[1;33m\u001b[0m\u001b[1;33m\u001b[0m\u001b[0m\n\u001b[0;32m     64\u001b[0m     \u001b[0mprint\u001b[0m\u001b[1;33m(\u001b[0m\u001b[0martist\u001b[0m\u001b[1;33m)\u001b[0m\u001b[1;33m\u001b[0m\u001b[1;33m\u001b[0m\u001b[0m\n\u001b[1;32m---> 65\u001b[1;33m     \u001b[0mprint\u001b[0m\u001b[1;33m(\u001b[0m\u001b[0mrandom_song\u001b[0m\u001b[1;33m[\u001b[0m\u001b[1;36m1\u001b[0m\u001b[1;33m]\u001b[0m\u001b[1;33m)\u001b[0m\u001b[1;33m\u001b[0m\u001b[1;33m\u001b[0m\u001b[0m\n\u001b[0m\u001b[0;32m     66\u001b[0m     \u001b[1;31m#genius.search_artist(song_text.value, max_songs=1)[1]\u001b[0m\u001b[1;33m\u001b[0m\u001b[1;33m\u001b[0m\u001b[1;33m\u001b[0m\u001b[0m\n\u001b[0;32m     67\u001b[0m \u001b[1;32mdef\u001b[0m \u001b[0mclear_button_clicked\u001b[0m\u001b[1;33m(\u001b[0m\u001b[0mb\u001b[0m\u001b[1;33m)\u001b[0m\u001b[1;33m:\u001b[0m\u001b[1;33m\u001b[0m\u001b[1;33m\u001b[0m\u001b[0m\n",
      "\u001b[1;31mTypeError\u001b[0m: 'Artist' object is not subscriptable"
     ]
    },
    {
     "name": "stdout",
     "output_type": "stream",
     "text": [
      "Searching for songs by Taylor Swift...\n",
      "\n",
      "Song 1: \"​cardigan\"\n",
      "\n",
      "Reached user-specified song limit (1).\n",
      "Done. Found 1 songs.\n",
      "Taylor Swift, 1 song\n",
      "\"​cardigan\" by Taylor Swift:\n",
      "    Vintage tee, brand new phone\n",
      "    High heels on cobblestones\n",
      "    When you are young, they assume you know not...\n",
      "Searching for songs by Ariana Grande...\n",
      "\n",
      "Song 1: \"​thank u, next\"\n",
      "\n",
      "Reached user-specified song limit (1).\n",
      "Done. Found 1 songs.\n",
      "Ariana Grande, 1 song\n",
      "\"​thank u, next\" by Ariana Grande:\n",
      "    Thought I'd end up with Sean\n",
      "    But he wasn't a match\n",
      "    Wrote some songs about Ricky\n",
      "    Now I listen and lau...\n",
      "Searching for songs by Adele...\n",
      "\n",
      "Song 1: \"Hello\"\n",
      "\n",
      "Reached user-specified song limit (1).\n",
      "Done. Found 1 songs.\n",
      "Adele, 1 song\n",
      "Hello\n",
      "Searching for songs by Taylor Swift...\n",
      "\n",
      "Song 1: \"​cardigan\"\n",
      "\n",
      "Reached user-specified song limit (1).\n",
      "Done. Found 1 songs.\n",
      "Taylor Swift\n",
      "​cardigan\n",
      "Searching for songs by Ariana Grande...\n",
      "\n",
      "Song 1: \"​thank u, next\"\n",
      "\n",
      "Reached user-specified song limit (1).\n",
      "Done. Found 1 songs.\n",
      "Ariana Grande\n",
      "​thank u, next\n",
      "[DEBUG - getting lyrics]\n",
      " Counter({'next': 42, 'thank': 36, 'yeah': 15, 'so': 14, \"i'm\": 10, \"i've\": 10, 'my': 8, 'say': 7, 'what': 7, 'that': 7, 'taught': 6, 'me': 6, \"'cause\": 5, 'one': 5, 'love': 5, 'patience': 5, 'pain': 5, 'amazing': 5, \"fuckin'\": 5, 'grateful': 5, 'ex': 5, 'got': 4, 'look': 4, 'she': 4, 'loved': 3, 'lost': 3, \"that's\": 3, 'see': 3, \"ain't\": 3, 'is': 3}) \n",
      "\n"
     ]
    }
   ],
   "source": [
    "# Display GUI\n",
    "display(api_header, api_text, api_button, header, song_text, artist_text, color_dropdown, profanity_check, generate_button, suprise_button, clear_button, output)"
   ]
  },
  {
   "cell_type": "code",
   "execution_count": 21,
   "metadata": {
    "scrolled": true
   },
   "outputs": [
    {
     "data": {
      "image/png": "[encoded data removed]",
      "text/plain": [
       "<Figure size 432x288 with 2 Axes>"
      ]
     },
     "metadata": {
      "needs_background": "light"
     },
     "output_type": "display_data"
    }
   ],
   "source": [
    "#matplotlib notebook\n",
    "%matplotlib widget\n",
    "%matplotlib inline\n",
    "import matplotlib\n",
    "import matplotlib.pyplot as plt\n",
    "import numpy as np\n",
    "from urllib.request import Request, urlopen\n",
    "import matplotlib.image as img\n",
    "color_themes = {\n",
    "                \"Blue\"          : ['#004c6d', '#346888', '#5886a5', '#7aa6c2'],\n",
    "                \"Red\"           : ['#6d0001', '#8d3527', '#ab5d4c', '#c88474'],\n",
    "                \"Green\"         : ['#166d03', '#448531', '#699d56', '#8cb67a'],\n",
    "                \"Purple\"        : ['#59006d', '#793588', '#985da4', '#b785c0'],\n",
    "                \"Multi-color\"   : ['#003f5c', '#444e86', '#955196', '#dd5182', '#ff6e54', '#ffa600'],\n",
    "                \"Multi-color 2\" : ['#3f515c', '#166d76', '#008872', '#4a9e50', '#9eab1a', '#ffa600']\n",
    "               }\n",
    "'''for lyric in enumerate(lyric_count):\n",
    "    x_coord = np.random.randint(0, 100)\n",
    "    y_coord = np.random.randint(0, 100)\n",
    "    font_color = color_themes[color_dropdown.value][random.randint(0,len(color_themes[color_dropdown.value]) - 1)]\n",
    "    plt.text(x_coord, y_coord, lyric[1], color=font_color, fontsize=20)\n",
    "    plt.plot(x_coord, y_coord) # invisible plot points, required to scale graph properly'''\n",
    "#     plt.plot(x_coord, y_coord, 'o', color=font_color) uncomment to see plotted points, may be easier for annotations?\n",
    "\n",
    "#plt.figure(figsize = (1, 1)) #change size of the plot's figure\n",
    "url = 'https://images.genius.com/f0503093b85ca3e2a793f8b660820196.1000x1000x1.jpg'\n",
    "#just an example photo; generally use variable\n",
    "\n",
    "req = Request(url, headers = {'User-Agent': 'XYZ/3.0'}) #need to request to open the photo\n",
    "image = urlopen(req, timeout = 20)\n",
    "\n",
    "a = plt.imread(image, format='jpg') #reads the image\n",
    "#plt.imshow(a, aspect='auto')\n",
    "\n",
    "fig, axs = plt.subplots(ncols = 2, nrows = 1) #create subplot for photo and cloud; semi works\n",
    "axs[0].imshow(a, aspect = 'auto') #shows the image on the left column\n",
    "axs[0].axis('off') #turns the photo's axis off\n",
    "for lyric in enumerate(lyric_count):\n",
    "    x_coord = np.random.randint(0, 100)\n",
    "    y_coord = np.random.randint(0, 100)\n",
    "    font_color = color_themes[color_dropdown.value][random.randint(0,len(color_themes[color_dropdown.value]) - 1)]\n",
    "    plt.text(x_coord, y_coord, lyric[1], color=font_color, fontsize=20)\n",
    "    axs[1].text(x_coord, y_coord, lyric[1], color=font_color, fontsize=20)\n",
    "    axs[1].plot(x_coord, y_coord) # invisible plot points, required to scale graph properly\n",
    "    \n",
    "\n",
    "plt.axis('off')\n",
    "#plt.imshow(a) #rs)\n",
    "#plt.axis('off') # disable axis\n",
    "plt.show()"
   ]
  },
  {
   "cell_type": "code",
   "execution_count": null,
   "metadata": {},
   "outputs": [],
   "source": []
  },
  {
   "cell_type": "code",
   "execution_count": null,
   "metadata": {},
   "outputs": [],
   "source": []
  }
 ],
 "metadata": {
  "kernelspec": {
   "display_name": "Python 3",
   "language": "python",
   "name": "python3"
  },
  "language_info": {
   "codemirror_mode": {
    "name": "ipython",
    "version": 3
   },
   "file_extension": ".py",
   "mimetype": "text/x-python",
   "name": "python",
   "nbconvert_exporter": "python",
   "pygments_lexer": "ipython3",
   "version": "3.7.4"
  }
 },
 "nbformat": 4,
 "nbformat_minor": 4
}
