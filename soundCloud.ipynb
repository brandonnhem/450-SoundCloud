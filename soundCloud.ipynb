{
 "cells": [
  {
   "cell_type": "code",
   "execution_count": 1,
   "metadata": {},
   "outputs": [],
   "source": [
    "import ipywidgets as widgets\n",
    "from IPython.display import display\n",
    "\n",
    "# GUI elements\n",
    "\n",
    "api_header = widgets.HBox([widgets.Label(value=\"Enter Genius API Key\")])\n",
    "\n",
    "api_text = widgets.Text(\n",
    "    value='',\n",
    "    placeholder='Enter Genius API Key..',\n",
    "    description='API:',\n",
    "    disabled=False\n",
    ")\n",
    "\n",
    "api_button = widgets.Button(\n",
    "    description='Store API',\n",
    "    disabled=False,\n",
    "    button_style='info', # 'success', 'info', 'warning', 'danger' or ''\n",
    "    tooltip='Store API Key',\n",
    "    icon='save' # (FontAwesome names without the `fa-` prefix)\n",
    ")\n",
    "\n",
    "header = widgets.HBox([widgets.Label(value=\"Sound Cloud Search\")])\n",
    "\n",
    "song_text = widgets.Text(\n",
    "    value='',\n",
    "    placeholder='Enter song name..',\n",
    "    description='Song:',\n",
    "    disabled=False\n",
    ")\n",
    "\n",
    "artist_text = widgets.Text(\n",
    "    value='',\n",
    "    placeholder='Enter artist name..',\n",
    "    description='Artist:',\n",
    "    disabled=False\n",
    ")\n",
    "\n",
    "generate_button = widgets.Button(\n",
    "    description='Generate Cloud',\n",
    "    disabled=False,\n",
    "    button_style='success', # 'success', 'info', 'warning', 'danger' or ''\n",
    "    tooltip='Generate Word Cloud',\n",
    "    icon='cloud' # (FontAwesome names without the `fa-` prefix)\n",
    ")\n",
    "profanity_check = widgets.Checkbox(\n",
    "            value = False,\n",
    "            description = 'Remove Profanity',\n",
    "            disabled = False,\n",
    "            indent = True)\n",
    "\n",
    "clear_button = widgets.Button(\n",
    "    description='Clear Search',\n",
    "    disabled=False,\n",
    "    button_style='danger', # 'success', 'info', 'warning', 'danger' or ''\n",
    "    tooltip='Clear Search',\n",
    "    icon='times-circle' # (FontAwesome names without the `fa-` prefix)\n",
    ")\n",
    "\n",
    "color_dropdown = widgets.Dropdown(\n",
    "    options=['Blue', 'Red', 'Green', 'Purple', 'Multi-color', 'Multi-color 2'],\n",
    "    description='Color theme:',\n",
    "    value='Blue',\n",
    "    disabled=False,\n",
    ")\n",
    "\n",
    "output = widgets.Output()"
   ]
  },
  {
   "cell_type": "code",
   "execution_count": 2,
   "metadata": {},
   "outputs": [],
   "source": [
    "# lyricsgenius\n",
    "\n",
    "import lyricsgenius\n",
    "\n",
    "genius = lyricsgenius.Genius(api_text.value, remove_section_headers = True)"
   ]
  },
  {
   "cell_type": "code",
   "execution_count": 3,
   "metadata": {},
   "outputs": [],
   "source": [
    "# Button handling\n",
    "from collections import Counter\n",
    "from itertools import dropwhile\n",
    "from better_profanity import profanity\n",
    "\n",
    "lyric_count = Counter()\n",
    "# color_theme = color_dropdown.value\n",
    "profanity.load_censor_words() #loads the list of bad words into the library\n",
    "\n",
    "basic_words=[\"the\", \"i\", \"a\", \"be\", \"to\", \"of\", \"and\", \"in\", \"it\", \"for\", \"not\", \"on\", \"with\", \"he\", \"as\", \"you\", \"do\", \"this\", \"but\", \"his\"]\n",
    "#20 most common words in englsih words may switch to 10 for the sake of songs\n",
    "def api_button_clicked(b):\n",
    "    genius = lyricsgenius.Genius(api_text.value, remove_section_headers = True)\n",
    "    with output:\n",
    "        print(\"[DEBUG - api_button_clicked]\\nAPI key:\", api_text.value, \"\\n\")\n",
    "        \n",
    "def color_changed(change):\n",
    "    with output:\n",
    "        if change['type'] == 'change' and change['name'] == 'value':\n",
    "            print(\"[DEBUG - color_changed()]\\nColor changed to %s\" % change['new'], \"\\n\")\n",
    "\n",
    "color_dropdown.observe(color_changed)\n",
    "\n",
    "def generate_button_clicked(b):\n",
    "    with output:\n",
    "        print(\"[DEBUG - generate_button_clicked]\\nSong:\", song_text.value, \"\\nArtist:\", artist_text.value, \"\\n\")\n",
    "        try:\n",
    "            song = genius.search_song(song_text.value, artist_text.value) #text_format = \"\"\n",
    "            lyrics = song.lyrics.replace('-', ' ').split()\n",
    "            lyrics = [x.lower() for x in lyrics] # converts all values in list to lowercase\n",
    "            lyrics = [x.replace(',','') for x in lyrics] # removes all commas \n",
    "            lyrics = [x.replace('(', '') for x in lyrics] #removes parenthesis\n",
    "            lyrics = [x.replace(')', '') for x in lyrics]\n",
    "            \n",
    "            for x in list(lyrics): #remove basic words such as \"the\" \n",
    "                if x in basic_words:\n",
    "                    lyrics.remove(x)\n",
    "            if profanity_check.value == True: #If profanity box was clicked remove profanity\n",
    "                for x in list(lyrics):\n",
    "                    if profanity.contains_profanity(x):\n",
    "                        lyrics.remove(x)\n",
    "            #censoredLyrics = profanity.censor(lyrics)\n",
    "            #print(censoredLyrics)\n",
    "            #lyrics = [x.replace('-',' ') for x in lyrics] # removes all dashes have to seperate the words\n",
    "            #for x in censoredLyrics:\n",
    "                #print(x)\n",
    "            \n",
    "            global lyric_count\n",
    "            lyric_count = Counter(lyrics)\n",
    "\n",
    "            # Remove lyrics where frequency is >= 4, needs to be dynamic based on song\n",
    "            for key, count in dropwhile(lambda key_count: key_count[1] >= 3, lyric_count.most_common()):\n",
    "                del lyric_count[key]\n",
    "                \n",
    "            print(\"[DEBUG - getting lyrics]\\n\",lyric_count,\"\\n\")\n",
    "        except TypeError as err:\n",
    "            print(\"\\n\\t--- ERROR - Enter API key correctly ---\\t\\n\")\n",
    "        \n",
    "def clear_button_clicked(b):\n",
    "    song_text.value = ''\n",
    "    artist_text.value = ''\n",
    "    with output:\n",
    "        print(\"[DEBUG - clear_clicked()]\\nCleared 'song_text' and 'artist_text'\\n\")\n",
    "                \n",
    "api_button.on_click(api_button_clicked)\n",
    "generate_button.on_click(generate_button_clicked)\n",
    "clear_button.on_click(clear_button_clicked)"
   ]
  },
  {
   "cell_type": "code",
   "execution_count": 4,
   "metadata": {},
   "outputs": [
    {
     "data": {
      "application/vnd.jupyter.widget-view+json": {
       "model_id": "77e67946bc98438cad24ccd2092b0d4b",
       "version_major": 2,
       "version_minor": 0
      },
      "text/plain": [
       "HBox(children=(Label(value='Enter Genius API Key'),))"
      ]
     },
     "metadata": {},
     "output_type": "display_data"
    },
    {
     "data": {
      "application/vnd.jupyter.widget-view+json": {
       "model_id": "edc0d1759b8f445784640cae329a0e15",
       "version_major": 2,
       "version_minor": 0
      },
      "text/plain": [
       "Text(value='', description='API:', placeholder='Enter Genius API Key..')"
      ]
     },
     "metadata": {},
     "output_type": "display_data"
    },
    {
     "data": {
      "application/vnd.jupyter.widget-view+json": {
       "model_id": "95c32d3f80e24b62953cf069d466ca86",
       "version_major": 2,
       "version_minor": 0
      },
      "text/plain": [
       "Button(button_style='info', description='Store API', icon='save', style=ButtonStyle(), tooltip='Store API Key'…"
      ]
     },
     "metadata": {},
     "output_type": "display_data"
    },
    {
     "data": {
      "application/vnd.jupyter.widget-view+json": {
       "model_id": "0649cb91082940618d163505defd7a19",
       "version_major": 2,
       "version_minor": 0
      },
      "text/plain": [
       "HBox(children=(Label(value='Sound Cloud Search'),))"
      ]
     },
     "metadata": {},
     "output_type": "display_data"
    },
    {
     "data": {
      "application/vnd.jupyter.widget-view+json": {
       "model_id": "8ae0d0b6b6024654a6b69272415a3799",
       "version_major": 2,
       "version_minor": 0
      },
      "text/plain": [
       "Text(value='', description='Song:', placeholder='Enter song name..')"
      ]
     },
     "metadata": {},
     "output_type": "display_data"
    },
    {
     "data": {
      "application/vnd.jupyter.widget-view+json": {
       "model_id": "fce0f1a51dad4285a2003f058575e232",
       "version_major": 2,
       "version_minor": 0
      },
      "text/plain": [
       "Text(value='', description='Artist:', placeholder='Enter artist name..')"
      ]
     },
     "metadata": {},
     "output_type": "display_data"
    },
    {
     "data": {
      "application/vnd.jupyter.widget-view+json": {
       "model_id": "4bd5e7f3b7754f5d8e42a7f8a4d92b37",
       "version_major": 2,
       "version_minor": 0
      },
      "text/plain": [
       "Dropdown(description='Color theme:', options=('Blue', 'Red', 'Green', 'Purple', 'Multi-color', 'Multi-color 2'…"
      ]
     },
     "metadata": {},
     "output_type": "display_data"
    },
    {
     "data": {
      "application/vnd.jupyter.widget-view+json": {
       "model_id": "163d80e8493843599a113d920d93f009",
       "version_major": 2,
       "version_minor": 0
      },
      "text/plain": [
       "Checkbox(value=False, description='Remove Profanity')"
      ]
     },
     "metadata": {},
     "output_type": "display_data"
    },
    {
     "data": {
      "application/vnd.jupyter.widget-view+json": {
       "model_id": "492cc30b725a457f9ea80cc7bc71e93d",
       "version_major": 2,
       "version_minor": 0
      },
      "text/plain": [
       "Button(button_style='success', description='Generate Cloud', icon='cloud', style=ButtonStyle(), tooltip='Gener…"
      ]
     },
     "metadata": {},
     "output_type": "display_data"
    },
    {
     "data": {
      "application/vnd.jupyter.widget-view+json": {
       "model_id": "fe6a9ec2580845199c4ed78a8c27ee3d",
       "version_major": 2,
       "version_minor": 0
      },
      "text/plain": [
       "Button(button_style='danger', description='Clear Search', icon='times-circle', style=ButtonStyle(), tooltip='C…"
      ]
     },
     "metadata": {},
     "output_type": "display_data"
    },
    {
     "data": {
      "application/vnd.jupyter.widget-view+json": {
       "model_id": "09cba08e1af14f9184679053beaa9239",
       "version_major": 2,
       "version_minor": 0
      },
      "text/plain": [
       "Output()"
      ]
     },
     "metadata": {},
     "output_type": "display_data"
    }
   ],
   "source": [
    "# Display GUI\n",
    "display(api_header, api_text, api_button, header, song_text, artist_text, color_dropdown, profanity_check, generate_button, clear_button, output)"
   ]
  },
  {
   "cell_type": "code",
   "execution_count": 5,
   "metadata": {},
   "outputs": [],
   "source": [
    "#!python numbers=disable\n",
    "# CELL PROVIDED FROM https://scipy-cookbook.readthedocs.io/items/Matplotlib_Drag_n_Drop_Text_Example.html\n",
    "from matplotlib         import pylab as p\n",
    "from matplotlib.text import Text\n",
    "\n",
    "class DragHandler(object):\n",
    "    \"\"\" A simple class to handle Drag n Drop.\n",
    "\n",
    "    This is a simple example, which works for Text objects only\n",
    "    \"\"\"\n",
    "    def __init__(self, figure=None) :\n",
    "        \"\"\" Create a new drag handler and connect it to the figure's event system.\n",
    "        If the figure handler is not given, the current figure is used instead\n",
    "        \"\"\"\n",
    "\n",
    "        if figure is None : figure = p.gcf()\n",
    "        # simple attibute to store the dragged text object\n",
    "        self.dragged = None\n",
    "\n",
    "        # Connect events and callbacks\n",
    "        figure.canvas.mpl_connect(\"pick_event\", self.on_pick_event)\n",
    "        figure.canvas.mpl_connect(\"button_release_event\", self.on_release_event)\n",
    "\n",
    "    def on_pick_event(self, event):\n",
    "        \" Store which text object was picked and were the pick event occurs.\"\n",
    "\n",
    "        if isinstance(event.artist, Text):\n",
    "            self.dragged = event.artist\n",
    "            self.pick_pos = (event.mouseevent.xdata, event.mouseevent.ydata)\n",
    "        return True\n",
    "\n",
    "    def on_release_event(self, event):\n",
    "        \" Update text position and redraw\"\n",
    "\n",
    "        if self.dragged is not None :\n",
    "            old_pos = self.dragged.get_position()\n",
    "            new_pos = (old_pos[0] + event.xdata - self.pick_pos[0],\n",
    "                       old_pos[1] + event.ydata - self.pick_pos[1])\n",
    "            self.dragged.set_position(new_pos)\n",
    "            self.dragged = None\n",
    "            p.draw()\n",
    "        return True"
   ]
  },
  {
   "cell_type": "code",
   "execution_count": 8,
   "metadata": {},
   "outputs": [
    {
     "data": {
      "application/vnd.jupyter.widget-view+json": {
       "model_id": "50f21895278c473f98d04ec9d61678a0",
       "version_major": 2,
       "version_minor": 0
      },
      "text/plain": [
       "Canvas(toolbar=Toolbar(toolitems=[('Home', 'Reset original view', 'home', 'home'), ('Back', 'Back to previous …"
      ]
     },
     "metadata": {},
     "output_type": "display_data"
    }
   ],
   "source": [
    "# matplotlib notebook\n",
    "%matplotlib widget\n",
    "import matplotlib\n",
    "import matplotlib.pyplot as plt\n",
    "import numpy as np\n",
    "\n",
    "color_themes = {\n",
    "                \"Blue\"          : ['#004c6d', '#346888', '#5886a5', '#7aa6c2'],\n",
    "                \"Red\"           : ['#6d0001', '#8d3527', '#ab5d4c', '#c88474'],\n",
    "                \"Green\"         : ['#166d03', '#448531', '#699d56', '#8cb67a'],\n",
    "                \"Purple\"        : ['#59006d', '#793588', '#985da4', '#b785c0'],\n",
    "                \"Multi-color\"   : ['#003f5c', '#444e86', '#955196', '#dd5182', '#ff6e54', '#ffa600'],\n",
    "                \"Multi-color 2\" : ['#3f515c', '#166d76', '#008872', '#4a9e50', '#9eab1a', '#ffa600']\n",
    "               }\n",
    "\n",
    "for lyric in enumerate(lyric_count):\n",
    "    x_coord = np.random.randint(0, 100)\n",
    "    y_coord = np.random.randint(0, 100)\n",
    "    font_color = color_themes[color_dropdown.value][np.random.randint(0,len(color_themes[color_dropdown.value]) - 1)]\n",
    "    plt.text(x_coord, y_coord, lyric[1], color=font_color, fontsize=15, picker=True)\n",
    "    plt.plot(x_coord, y_coord) # invisible plot points, required to scale graph properly\n",
    "#     plt.plot(x_coord, y_coord, 'o', color=font_color) uncomment to see plotted points, may be easier for annotations?\n",
    "\n",
    "plt.axis('off') # disable axis\n",
    "\n",
    "dragh = DragHandler()\n",
    "\n",
    "plt.show()"
   ]
  },
  {
   "cell_type": "code",
   "execution_count": null,
   "metadata": {},
   "outputs": [],
   "source": []
  }
 ],
 "metadata": {
  "kernelspec": {
   "display_name": "Python 3",
   "language": "python",
   "name": "python3"
  },
  "language_info": {
   "codemirror_mode": {
    "name": "ipython",
    "version": 3
   },
   "file_extension": ".py",
   "mimetype": "text/x-python",
   "name": "python",
   "nbconvert_exporter": "python",
   "pygments_lexer": "ipython3",
   "version": "3.8.5"
  }
 },
 "nbformat": 4,
 "nbformat_minor": 4
}
