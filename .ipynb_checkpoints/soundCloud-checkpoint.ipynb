{
 "cells": [
  {
   "cell_type": "code",
   "execution_count": 44,
   "metadata": {},
   "outputs": [],
   "source": [
    "import ipywidgets as widgets\n",
    "from IPython.display import display\n",
    "\n",
    "# GUI elements\n",
    "\n",
    "api_header = widgets.HBox([widgets.Label(value=\"Enter Genius API Key\")])\n",
    "\n",
    "api_text = widgets.Text(\n",
    "    value='',\n",
    "    placeholder='Enter Genius API Key..',\n",
    "    description='API:',\n",
    "    disabled=False\n",
    ")\n",
    "\n",
    "api_button = widgets.Button(\n",
    "    description='Store API',\n",
    "    disabled=False,\n",
    "    button_style='info', # 'success', 'info', 'warning', 'danger' or ''\n",
    "    tooltip='Store API Key',\n",
    "    icon='save' # (FontAwesome names without the `fa-` prefix)\n",
    ")\n",
    "\n",
    "header = widgets.HBox([widgets.Label(value=\"Sound Cloud Search\")])\n",
    "\n",
    "song_text = widgets.Text(\n",
    "    value='',\n",
    "    placeholder='Enter song name..',\n",
    "    description='Song:',\n",
    "    disabled=False\n",
    ")\n",
    "\n",
    "artist_text = widgets.Text(\n",
    "    value='',\n",
    "    placeholder='Enter artist name..',\n",
    "    description='Artist:',\n",
    "    disabled=False\n",
    ")\n",
    "\n",
    "generate_button = widgets.Button(\n",
    "    description='Generate Cloud',\n",
    "    disabled=False,\n",
    "    button_style='success', # 'success', 'info', 'warning', 'danger' or ''\n",
    "    tooltip='Generate Word Cloud',\n",
    "    icon='cloud' # (FontAwesome names without the `fa-` prefix)\n",
    ")\n",
    "\n",
    "clear_button = widgets.Button(\n",
    "    description='Clear Search',\n",
    "    disabled=False,\n",
    "    button_style='danger', # 'success', 'info', 'warning', 'danger' or ''\n",
    "    tooltip='Clear Search',\n",
    "    icon='times-circle' # (FontAwesome names without the `fa-` prefix)\n",
    ")\n",
    "\n",
    "output = widgets.Output()"
   ]
  },
  {
   "cell_type": "code",
   "execution_count": 45,
   "metadata": {},
   "outputs": [],
   "source": [
    "# lyricsgenius\n",
    "\n",
    "import lyricsgenius\n",
    "\n",
    "genius = lyricsgenius.Genius(api_text.value)"
   ]
  },
  {
   "cell_type": "code",
   "execution_count": 46,
   "metadata": {},
   "outputs": [],
   "source": [
    "# Button handling\n",
    "from collections import Counter\n",
    "from itertools import dropwhile\n",
    "\n",
    "lyric_count = Counter()\n",
    "\n",
    "def api_button_clicked(b):\n",
    "    genius = lyricsgenius.Genius(api_text.value)\n",
    "    with output:\n",
    "        print(\"[DEBUG - api_button_clicked]\\nAPI key:\", api_text.value, \"\\n\")\n",
    "\n",
    "def generate_button_clicked(b):\n",
    "    with output:\n",
    "        print(\"[DEBUG - generate_button_clicked]\\nSong:\", song_text.value, \"\\nArtist:\", artist_text.value, \"\\n\")\n",
    "        try:\n",
    "            song = genius.search_song(song_text.value, artist_text.value)\n",
    "\n",
    "            lyrics = song.lyrics.split()\n",
    "            lyrics = [x.lower() for x in lyrics] # converts all values in list to lowercase\n",
    "            lyrics = [x.replace(',','') for x in lyrics] # removes all commas            \n",
    "            global lyric_count\n",
    "            lyric_count = Counter(lyrics)\n",
    "\n",
    "            # Remove lyrics where frequency is >= 4, needs to be dynamic based on song\n",
    "            for key, count in dropwhile(lambda key_count: key_count[1] >= 4, lyric_count.most_common()):\n",
    "                del lyric_count[key]\n",
    "                \n",
    "            print(\"[DEBUG - getting lyrics]\\n\",lyric_count,\"\\n\")\n",
    "        except TypeError as err:\n",
    "            print(\"\\n\\t--- ERROR - Enter API key correctly ---\\t\\n\")\n",
    "        \n",
    "def clear_button_clicked(b):\n",
    "    song_text.value = ''\n",
    "    artist_text.value = ''\n",
    "    with output:\n",
    "        print(\"[DEBUG - clear_clicked()]\\nCleared 'song_text' and 'artist_text'\\n\")\n",
    "                \n",
    "api_button.on_click(api_button_clicked)\n",
    "generate_button.on_click(generate_button_clicked)\n",
    "clear_button.on_click(clear_button_clicked)"
   ]
  },
  {
   "cell_type": "code",
   "execution_count": 47,
   "metadata": {},
   "outputs": [
    {
     "data": {
      "application/vnd.jupyter.widget-view+json": {
       "model_id": "72cfbec3639a4efaa3e04dcc4bc0d17a",
       "version_major": 2,
       "version_minor": 0
      },
      "text/plain": [
       "HBox(children=(Label(value='Enter Genius API Key'),))"
      ]
     },
     "metadata": {},
     "output_type": "display_data"
    },
    {
     "data": {
      "application/vnd.jupyter.widget-view+json": {
       "model_id": "fba68406c51d44338d98ea3b9c0246e9",
       "version_major": 2,
       "version_minor": 0
      },
      "text/plain": [
       "Text(value='', description='API:', placeholder='Enter Genius API Key..')"
      ]
     },
     "metadata": {},
     "output_type": "display_data"
    },
    {
     "data": {
      "application/vnd.jupyter.widget-view+json": {
       "model_id": "1dc1ca6170c943239a91ad86ff3e841d",
       "version_major": 2,
       "version_minor": 0
      },
      "text/plain": [
       "Button(button_style='info', description='Store API', icon='save', style=ButtonStyle(), tooltip='Store API Key'…"
      ]
     },
     "metadata": {},
     "output_type": "display_data"
    },
    {
     "data": {
      "application/vnd.jupyter.widget-view+json": {
       "model_id": "a51804ad12504a20b2e42df4c14f8b7d",
       "version_major": 2,
       "version_minor": 0
      },
      "text/plain": [
       "HBox(children=(Label(value='Sound Cloud Search'),))"
      ]
     },
     "metadata": {},
     "output_type": "display_data"
    },
    {
     "data": {
      "application/vnd.jupyter.widget-view+json": {
       "model_id": "30b870e8cfc74b95af66c8c61f548fc4",
       "version_major": 2,
       "version_minor": 0
      },
      "text/plain": [
       "Text(value='', description='Song:', placeholder='Enter song name..')"
      ]
     },
     "metadata": {},
     "output_type": "display_data"
    },
    {
     "data": {
      "application/vnd.jupyter.widget-view+json": {
       "model_id": "b8c0e7ef815b4059b6168f3bd451b065",
       "version_major": 2,
       "version_minor": 0
      },
      "text/plain": [
       "Text(value='', description='Artist:', placeholder='Enter artist name..')"
      ]
     },
     "metadata": {},
     "output_type": "display_data"
    },
    {
     "data": {
      "application/vnd.jupyter.widget-view+json": {
       "model_id": "5b9dd70f719145b58658524cbc2b0dbc",
       "version_major": 2,
       "version_minor": 0
      },
      "text/plain": [
       "Button(button_style='success', description='Generate Cloud', icon='cloud', style=ButtonStyle(), tooltip='Gener…"
      ]
     },
     "metadata": {},
     "output_type": "display_data"
    },
    {
     "data": {
      "application/vnd.jupyter.widget-view+json": {
       "model_id": "93a85809a9c549469490a98e5686b5ad",
       "version_major": 2,
       "version_minor": 0
      },
      "text/plain": [
       "Button(button_style='danger', description='Clear Search', icon='times-circle', style=ButtonStyle(), tooltip='C…"
      ]
     },
     "metadata": {},
     "output_type": "display_data"
    },
    {
     "data": {
      "application/vnd.jupyter.widget-view+json": {
       "model_id": "9ac71c4b71a64543ad41d59340ce4849",
       "version_major": 2,
       "version_minor": 0
      },
      "text/plain": [
       "Output()"
      ]
     },
     "metadata": {},
     "output_type": "display_data"
    }
   ],
   "source": [
    "# Display GUI\n",
    "display(api_header, api_text, api_button, header, song_text, artist_text, generate_button, clear_button, output)"
   ]
  },
  {
   "cell_type": "code",
   "execution_count": 54,
   "metadata": {},
   "outputs": [
    {
     "data": {
      "application/vnd.jupyter.widget-view+json": {
       "model_id": "ef48a11055a54a04bf0d56a376d8e455",
       "version_major": 2,
       "version_minor": 0
      },
      "text/plain": [
       "Canvas(height=800, width=800)"
      ]
     },
     "metadata": {},
     "output_type": "display_data"
    }
   ],
   "source": [
    "# Canvas\n",
    "\n",
    "from ipycanvas import Canvas\n",
    "import random\n",
    "\n",
    "# creating canvas\n",
    "canvas = Canvas(width=800, height=800)\n",
    "\n",
    "# setting font size\n",
    "canvas.font = '32px serif'\n",
    "\n",
    "# stroke_text or fill_text(text, x, y, max_width=None)\n",
    "for i in enumerate(lyric_count):\n",
    "    canvas.fill_text(i[1], random.randint(100, 700), random.randint(100, 700))\n",
    "\n",
    "# call canvas\n",
    "canvas"
   ]
  },
  {
   "cell_type": "code",
   "execution_count": null,
   "metadata": {},
   "outputs": [],
   "source": []
  }
 ],
 "metadata": {
  "kernelspec": {
   "display_name": "Python 3",
   "language": "python",
   "name": "python3"
  },
  "language_info": {
   "codemirror_mode": {
    "name": "ipython",
    "version": 3
   },
   "file_extension": ".py",
   "mimetype": "text/x-python",
   "name": "python",
   "nbconvert_exporter": "python",
   "pygments_lexer": "ipython3",
   "version": "3.8.5"
  }
 },
 "nbformat": 4,
 "nbformat_minor": 4
}
