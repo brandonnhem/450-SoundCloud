{
 "cells": [
  {
   "cell_type": "code",
   "execution_count": 14,
   "metadata": {},
   "outputs": [],
   "source": [
    "import ipywidgets as widgets\n",
    "from IPython.display import display\n",
    "\n",
    "# GUI elements\n",
    "\n",
    "api_header = widgets.HBox([widgets.Label(value=\"Enter Genius API Key\")])\n",
    "\n",
    "api_text = widgets.Text(\n",
    "    value='',\n",
    "    placeholder='Enter Genius API Key..',\n",
    "    description='API:',\n",
    "    disabled=False\n",
    ")\n",
    "\n",
    "api_button = widgets.Button(\n",
    "    description='Store API',\n",
    "    disabled=False,\n",
    "    button_style='info', # 'success', 'info', 'warning', 'danger' or ''\n",
    "    tooltip='Store API Key',\n",
    "    icon='save' # (FontAwesome names without the `fa-` prefix)\n",
    ")\n",
    "\n",
    "header = widgets.HBox([widgets.Label(value=\"Sound Cloud Search\")])\n",
    "\n",
    "song_text = widgets.Text(\n",
    "    value='',\n",
    "    placeholder='Enter song name..',\n",
    "    description='Song:',\n",
    "    disabled=False\n",
    ")\n",
    "\n",
    "artist_text = widgets.Text(\n",
    "    value='',\n",
    "    placeholder='Enter artist name..',\n",
    "    description='Artist:',\n",
    "    disabled=False\n",
    ")\n",
    "\n",
    "generate_button = widgets.Button(\n",
    "    description='Generate Cloud',\n",
    "    disabled=False,\n",
    "    button_style='success', # 'success', 'info', 'warning', 'danger' or ''\n",
    "    tooltip='Generate Word Cloud',\n",
    "    icon='cloud' # (FontAwesome names without the `fa-` prefix)\n",
    ")\n",
    "\n",
    "clear_button = widgets.Button(\n",
    "    description='Clear Search',\n",
    "    disabled=False,\n",
    "    button_style='danger', # 'success', 'info', 'warning', 'danger' or ''\n",
    "    tooltip='Clear Search',\n",
    "    icon='times-circle' # (FontAwesome names without the `fa-` prefix)\n",
    ")\n",
    "\n",
    "output = widgets.Output()"
   ]
  },
  {
   "cell_type": "code",
   "execution_count": 15,
   "metadata": {},
   "outputs": [],
   "source": [
    "# lyricsgenius\n",
    "\n",
    "import lyricsgenius\n",
    "\n",
    "genius = lyricsgenius.Genius(api_text.value)"
   ]
  },
  {
   "cell_type": "code",
   "execution_count": 16,
   "metadata": {},
   "outputs": [],
   "source": [
    "# Button handling\n",
    "from collections import Counter\n",
    "from itertools import dropwhile\n",
    "\n",
    "lyric_count = Counter()\n",
    "\n",
    "def api_button_clicked(b):\n",
    "    genius = lyricsgenius.Genius(api_text.value)\n",
    "    with output:\n",
    "        print(\"[DEBUG - api_button_clicked]\\nAPI key:\", api_text.value, \"\\n\")\n",
    "\n",
    "def generate_button_clicked(b):\n",
    "    with output:\n",
    "        print(\"[DEBUG - generate_button_clicked]\\nSong:\", song_text.value, \"\\nArtist:\", artist_text.value, \"\\n\")\n",
    "        try:\n",
    "            song = genius.search_song(song_text.value, artist_text.value)\n",
    "\n",
    "            lyrics = song.lyrics.split()\n",
    "            lyrics = [x.lower() for x in lyrics] # converts all values in list to lowercase\n",
    "            lyrics = [x.replace(',','') for x in lyrics] # removes all commas            \n",
    "            global lyric_count\n",
    "            lyric_count = Counter(lyrics)\n",
    "\n",
    "            # Remove lyrics where frequency is >= 4, needs to be dynamic based on song\n",
    "            for key, count in dropwhile(lambda key_count: key_count[1] >= 4, lyric_count.most_common()):\n",
    "                del lyric_count[key]\n",
    "            \n",
    "            print(\"[DEBUG - getting lyrics]\\n\",lyric_count,\"\\n\")\n",
    "        except TypeError as err:\n",
    "            print(\"\\n\\t--- ERROR - Enter API key correctly ---\\t\\n\")\n",
    "        \n",
    "def clear_button_clicked(b):\n",
    "    song_text.value = ''\n",
    "    artist_text.value = ''\n",
    "    with output:\n",
    "        print(\"[DEBUG - clear_clicked()]\\nCleared 'song_text' and 'artist_text'\\n\")\n",
    "                \n",
    "api_button.on_click(api_button_clicked)\n",
    "generate_button.on_click(generate_button_clicked)\n",
    "clear_button.on_click(clear_button_clicked)"
   ]
  },
  {
   "cell_type": "code",
   "execution_count": 17,
   "metadata": {
    "scrolled": true
   },
   "outputs": [
    {
     "data": {
      "application/vnd.jupyter.widget-view+json": {
       "model_id": "0807783de91c4601a1b278c377b7d4b1",
       "version_major": 2,
       "version_minor": 0
      },
      "text/plain": [
       "HBox(children=(Label(value='Enter Genius API Key'),))"
      ]
     },
     "metadata": {},
     "output_type": "display_data"
    },
    {
     "data": {
      "application/vnd.jupyter.widget-view+json": {
       "model_id": "84b06dd83b0e4e1caf6dd02ff27b5746",
       "version_major": 2,
       "version_minor": 0
      },
      "text/plain": [
       "Text(value='', description='API:', placeholder='Enter Genius API Key..')"
      ]
     },
     "metadata": {},
     "output_type": "display_data"
    },
    {
     "data": {
      "application/vnd.jupyter.widget-view+json": {
       "model_id": "f5cd9fd2946c4e7f8f9ad6a938014797",
       "version_major": 2,
       "version_minor": 0
      },
      "text/plain": [
       "Button(button_style='info', description='Store API', icon='save', style=ButtonStyle(), tooltip='Store API Key'…"
      ]
     },
     "metadata": {},
     "output_type": "display_data"
    },
    {
     "data": {
      "application/vnd.jupyter.widget-view+json": {
       "model_id": "de8dc1737fec42f6ab15fbe08c4b5e8a",
       "version_major": 2,
       "version_minor": 0
      },
      "text/plain": [
       "HBox(children=(Label(value='Sound Cloud Search'),))"
      ]
     },
     "metadata": {},
     "output_type": "display_data"
    },
    {
     "data": {
      "application/vnd.jupyter.widget-view+json": {
       "model_id": "e174793292e84eb18f42d2c0f131ac20",
       "version_major": 2,
       "version_minor": 0
      },
      "text/plain": [
       "Text(value='', description='Song:', placeholder='Enter song name..')"
      ]
     },
     "metadata": {},
     "output_type": "display_data"
    },
    {
     "data": {
      "application/vnd.jupyter.widget-view+json": {
       "model_id": "c746b6755c86411585e0b3ed8f2b6847",
       "version_major": 2,
       "version_minor": 0
      },
      "text/plain": [
       "Text(value='', description='Artist:', placeholder='Enter artist name..')"
      ]
     },
     "metadata": {},
     "output_type": "display_data"
    },
    {
     "data": {
      "application/vnd.jupyter.widget-view+json": {
       "model_id": "becd9971e6e04c1494465b897de93b5e",
       "version_major": 2,
       "version_minor": 0
      },
      "text/plain": [
       "Button(button_style='success', description='Generate Cloud', icon='cloud', style=ButtonStyle(), tooltip='Gener…"
      ]
     },
     "metadata": {},
     "output_type": "display_data"
    },
    {
     "data": {
      "application/vnd.jupyter.widget-view+json": {
       "model_id": "18620e8754504663800d8755278bcba9",
       "version_major": 2,
       "version_minor": 0
      },
      "text/plain": [
       "Button(button_style='danger', description='Clear Search', icon='times-circle', style=ButtonStyle(), tooltip='C…"
      ]
     },
     "metadata": {},
     "output_type": "display_data"
    },
    {
     "data": {
      "application/vnd.jupyter.widget-view+json": {
       "model_id": "c5fcb5602f1f4ccb91982d3ec45fe64f",
       "version_major": 2,
       "version_minor": 0
      },
      "text/plain": [
       "Output()"
      ]
     },
     "metadata": {},
     "output_type": "display_data"
    }
   ],
   "source": [
    "# Display GUI\n",
    "display(api_header, api_text, api_button, header, song_text, artist_text, generate_button, clear_button, output)"
   ]
  },
  {
   "cell_type": "code",
   "execution_count": 18,
   "metadata": {},
   "outputs": [
    {
     "name": "stdout",
     "output_type": "stream",
     "text": [
      "Please enter an integer within this range to show the lyrics, [3 - 8] 7\n"
     ]
    }
   ],
   "source": [
    "from PIL import Image, ImageFont,ImageDraw\n",
    "\n",
    "#Creates a blank white image, serves as canvas\n",
    "im= Image.new(\"RGB\", (2000, 1000), \"white\")\n",
    "\n",
    "lyricList = [key for key, _ in lyric_count.most_common()]\n",
    "\n",
    "userInput = int(input(\"Please enter an integer within this range to show the lyrics, [3 - 8] \"))\n",
    " \n",
    "if userInput == 3:\n",
    "    \n",
    "    str1 = lyricList[0]\n",
    "    str2 = lyricList[1]\n",
    "    str3 = lyricList[2]\n",
    "    \n",
    "    font1 = ImageFont.truetype(\"arial.ttf\",500)\n",
    "    w1,h1 = font1.getsize(str1)\n",
    "\n",
    "    font2 = ImageFont.truetype(\"arial.ttf\",300)\n",
    "    w2,h2 = font2.getsize(str2)\n",
    "\n",
    "    font3 = ImageFont.truetype(\"arial.ttf\",200)\n",
    "    w3,h3 = font3.getsize(str3)\n",
    "    \n",
    "    draw = ImageDraw.Draw(im)\n",
    "    draw.text(((2000-w1)/2,0),str1,font=font1,fill=\"black\")\n",
    "    draw.text(((2000-w2)/2,500),str2,font=font2,fill=\"black\")\n",
    "    draw.text(((2000-w3)/2,800),str3,font=font3,fill=\"black\")\n",
    "    im.show()\n",
    "    \n",
    "elif userInput == 4:\n",
    "    \n",
    "    str1 = lyricList[0]\n",
    "    str2 = lyricList[1]\n",
    "    str3 = lyricList[2]   \n",
    "    str4 = lyricList[3]\n",
    "    \n",
    "    font1 = ImageFont.truetype(\"arial.ttf\",400)\n",
    "    w1,h1 = font1.getsize(str1)\n",
    "\n",
    "    font2 = ImageFont.truetype(\"arial.ttf\",300)\n",
    "    w2,h2 = font2.getsize(str2)\n",
    "\n",
    "    font3 = ImageFont.truetype(\"arial.ttf\",200)\n",
    "    w3,h3 = font3.getsize(str3)\n",
    "    \n",
    "    font4 = ImageFont.truetype(\"arial.ttf\",100)\n",
    "    w4,h4 = font4.getsize(str4)\n",
    "    \n",
    "    draw = ImageDraw.Draw(im)\n",
    "    draw.text(((2000-w1)/2,0),str1,font=font1,fill=\"black\")\n",
    "    draw.text(((2000-w2)/2,400),str2,font=font2,fill=\"black\")\n",
    "    draw.text(((2000-w3)/2,700),str3,font=font3,fill=\"black\")    \n",
    "    draw.text(((2000-w4)/2,900),str4,font=font4,fill=\"black\")\n",
    "    im.show()\n",
    "    \n",
    "elif userInput == 5:\n",
    "    \n",
    "    str1 = lyricList[0]\n",
    "    str2 = lyricList[1]\n",
    "    str3 = lyricList[2]   \n",
    "    str4 = lyricList[3]\n",
    "    str5 = lyricList[4]\n",
    "    \n",
    "    font1 = ImageFont.truetype(\"arial.ttf\",400)\n",
    "    w1,h1 = font1.getsize(str1)\n",
    "\n",
    "    font2 = ImageFont.truetype(\"arial.ttf\",250)\n",
    "    w2,h2 = font2.getsize(str2)\n",
    "\n",
    "    font3 = ImageFont.truetype(\"arial.ttf\",200)\n",
    "    w3,h3 = font3.getsize(str3)\n",
    "    \n",
    "    font4 = ImageFont.truetype(\"arial.ttf\",100)\n",
    "    w4,h4 = font4.getsize(str4)\n",
    "    \n",
    "    font5 = ImageFont.truetype(\"arial.ttf\",50)\n",
    "    w5,h5 = font5.getsize(str5)\n",
    "    \n",
    "    draw = ImageDraw.Draw(im)\n",
    "    draw.text(((2000-w1)/2,0),str1,font=font1,fill=\"black\")\n",
    "    draw.text(((2000-w2)/2,400),str2,font=font2,fill=\"black\")\n",
    "    draw.text(((2000-w3)/2,650),str3,font=font3,fill=\"black\")    \n",
    "    draw.text(((2000-w4)/2,850),str4,font=font4,fill=\"black\")\n",
    "    draw.text(((2000-w5)/2,950),str5,font=font5,fill=\"black\")\n",
    "    im.show()\n",
    "    \n",
    "elif userInput == 6:\n",
    "    \n",
    "    str1 = lyricList[0]\n",
    "    str2 = lyricList[1]\n",
    "    str3 = lyricList[2]   \n",
    "    str4 = lyricList[3]\n",
    "    str5 = lyricList[4]\n",
    "    str6 = lyricList[5]\n",
    "    \n",
    "    font1 = ImageFont.truetype(\"arial.ttf\",350)\n",
    "    w1,h1 = font1.getsize(str1)\n",
    "\n",
    "    font2 = ImageFont.truetype(\"arial.ttf\",250)\n",
    "    w2,h2 = font2.getsize(str2)\n",
    "\n",
    "    font3 = ImageFont.truetype(\"arial.ttf\",175)\n",
    "    w3,h3 = font3.getsize(str3)\n",
    "    \n",
    "    font4 = ImageFont.truetype(\"arial.ttf\",100)\n",
    "    w4,h4 = font4.getsize(str4)\n",
    "    \n",
    "    font5 = ImageFont.truetype(\"arial.ttf\",75)\n",
    "    w5,h5 = font5.getsize(str5)\n",
    "    \n",
    "    font6 = ImageFont.truetype(\"arial.ttf\",50)\n",
    "    w6,h6 = font6.getsize(str6)\n",
    "\n",
    "    draw = ImageDraw.Draw(im)\n",
    "    draw.text(((2000-w1)/2,0),str1,font=font1,fill=\"black\")\n",
    "    draw.text(((2000-w2)/2,350),str2,font=font2,fill=\"black\")\n",
    "    draw.text(((2000-w3)/2,600),str3,font=font3,fill=\"black\")    \n",
    "    draw.text(((2000-w4)/2,775),str4,font=font4,fill=\"black\")\n",
    "    draw.text(((2000-w5)/2,850),str5,font=font5,fill=\"black\")\n",
    "    draw.text(((2000-w6)/2,950),str6,font=font6,fill=\"black\")\n",
    "    im.show()\n",
    "    \n",
    "elif userInput == 7:\n",
    "    \n",
    "    str1 = lyricList[0]\n",
    "    str2 = lyricList[1]\n",
    "    str3 = lyricList[2]   \n",
    "    str4 = lyricList[3]\n",
    "    str5 = lyricList[4]\n",
    "    str6 = lyricList[5]\n",
    "    str7 = lyricList[6]\n",
    "    \n",
    "    font1 = ImageFont.truetype(\"arial.ttf\",300)\n",
    "    w1,h1 = font1.getsize(str1)\n",
    "\n",
    "    font2 = ImageFont.truetype(\"arial.ttf\",200)\n",
    "    w2,h2 = font2.getsize(str2)\n",
    "\n",
    "    font3 = ImageFont.truetype(\"arial.ttf\",150)\n",
    "    w3,h3 = font3.getsize(str3)\n",
    "    \n",
    "    font4 = ImageFont.truetype(\"arial.ttf\",125)\n",
    "    w4,h4 = font4.getsize(str4)\n",
    "    \n",
    "    font5 = ImageFont.truetype(\"arial.ttf\",100)\n",
    "    w5,h5 = font5.getsize(str5)\n",
    "    \n",
    "    font6 = ImageFont.truetype(\"arial.ttf\",75)\n",
    "    w6,h6 = font6.getsize(str6)\n",
    "    \n",
    "    font7 = ImageFont.truetype(\"arial.ttf\",50)\n",
    "    w7,h7 = font7.getsize(str7)\n",
    "\n",
    "    draw = ImageDraw.Draw(im)\n",
    "    draw.text(((2000-w1)/2,0),str1,font=font1,fill=\"black\")\n",
    "    draw.text(((2000-w2)/2,300),str2,font=font2,fill=\"black\")\n",
    "    draw.text(((2000-w3)/2,500),str3,font=font3,fill=\"black\")    \n",
    "    draw.text(((2000-w4)/2,650),str4,font=font4,fill=\"black\")\n",
    "    draw.text(((2000-w5)/2,775),str5,font=font5,fill=\"black\")\n",
    "    draw.text(((2000-w6)/2,875),str6,font=font6,fill=\"black\")\n",
    "    draw.text(((2000-w7)/2,950),str7,font=font7,fill=\"black\")\n",
    "    im.show()\n",
    "    \n",
    "elif userInput == 8:\n",
    "    \n",
    "    str1 = lyricList[0]\n",
    "    str2 = lyricList[1]\n",
    "    str3 = lyricList[2]   \n",
    "    str4 = lyricList[3]\n",
    "    str5 = lyricList[4]\n",
    "    str6 = lyricList[5]\n",
    "    str7 = lyricList[6]\n",
    "    str8 = lyricList[7]\n",
    "    \n",
    "    font1 = ImageFont.truetype(\"arial.ttf\",250)\n",
    "    w1,h1 = font1.getsize(str1)\n",
    "\n",
    "    font2 = ImageFont.truetype(\"arial.ttf\",225)\n",
    "    w2,h2 = font2.getsize(str2)\n",
    "\n",
    "    font3 = ImageFont.truetype(\"arial.ttf\",150)\n",
    "    w3,h3 = font3.getsize(str3)\n",
    "    \n",
    "    font4 = ImageFont.truetype(\"arial.ttf\",125)\n",
    "    w4,h4 = font4.getsize(str4)\n",
    "    \n",
    "    font5 = ImageFont.truetype(\"arial.ttf\",100)\n",
    "    w5,h5 = font5.getsize(str5)\n",
    "    \n",
    "    font6 = ImageFont.truetype(\"arial.ttf\",75)\n",
    "    w6,h6 = font6.getsize(str6)\n",
    "    \n",
    "    font7 = ImageFont.truetype(\"arial.ttf\",50)\n",
    "    w7,h7 = font7.getsize(str7)\n",
    "    \n",
    "    font8 = ImageFont.truetype(\"arial.ttf\",25)\n",
    "    w8,h8 = font8.getsize(str8)\n",
    "\n",
    "    draw = ImageDraw.Draw(im)\n",
    "    draw.text(((2000-w1)/2,0),str1,font=font1,fill=\"black\")\n",
    "    draw.text(((2000-w2)/2,250),str2,font=font2,fill=\"black\")\n",
    "    draw.text(((2000-w3)/2,475),str3,font=font3,fill=\"black\")    \n",
    "    draw.text(((2000-w4)/2,625),str4,font=font4,fill=\"black\")\n",
    "    draw.text(((2000-w5)/2,750),str5,font=font5,fill=\"black\")\n",
    "    draw.text(((2000-w6)/2,850),str6,font=font6,fill=\"black\")\n",
    "    draw.text(((2000-w7)/2,925),str7,font=font7,fill=\"black\")\n",
    "    draw.text(((2000-w8)/2,975),str8,font=font8,fill=\"black\")\n",
    "    im.show()\n",
    "    \n",
    "else:\n",
    "    print(\"You have entered an incorrect integer, please try again!\")"
   ]
  },
  {
   "cell_type": "code",
   "execution_count": null,
   "metadata": {},
   "outputs": [],
   "source": []
  },
  {
   "cell_type": "code",
   "execution_count": null,
   "metadata": {},
   "outputs": [],
   "source": []
  }
 ],
 "metadata": {
  "kernelspec": {
   "display_name": "Python 3",
   "language": "python",
   "name": "python3"
  },
  "language_info": {
   "codemirror_mode": {
    "name": "ipython",
    "version": 3
   },
   "file_extension": ".py",
   "mimetype": "text/x-python",
   "name": "python",
   "nbconvert_exporter": "python",
   "pygments_lexer": "ipython3",
   "version": "3.7.6"
  }
 },
 "nbformat": 4,
 "nbformat_minor": 4
}
